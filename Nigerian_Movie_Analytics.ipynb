{
 "cells": [
  {
   "cell_type": "markdown",
   "metadata": {},
   "source": [
    "# What Makes a Good Nigerian Movie?"
   ]
  },
  {
   "cell_type": "markdown",
   "metadata": {},
   "source": [
    "## Importing Libraries"
   ]
  },
  {
   "cell_type": "code",
   "execution_count": 14,
   "metadata": {},
   "outputs": [],
   "source": [
    "import requests\n",
    "import re\n",
    "import numpy as np\n",
    "import urllib.request\n",
    "import pandas as pd\n",
    "import csv\n",
    "import seaborn as sns\n",
    "import matplotlib.pyplot as plt\n",
    "import warnings\n",
    "from bs4 import BeautifulSoup as bs"
   ]
  },
  {
   "cell_type": "markdown",
   "metadata": {},
   "source": [
    "## Web Scraping Function"
   ]
  },
  {
   "cell_type": "code",
   "execution_count": 93,
   "metadata": {},
   "outputs": [],
   "source": [
    "def get_movie_data(url):\n",
    "    page_text = requests.get(url).text\n",
    "    doc = bs(page_text, \"html.parser\")\n",
    "    movies= doc.find(class_ = \"lister list detail sub-list\")\n",
    "    movie_containers = movies.find_all(class_= \"lister-item mode-advanced\")\n",
    "    movie_names=[]\n",
    "    for container in movie_containers:\n",
    "        title= container.h3.a.text\n",
    "        movie_names.append(title)\n",
    "    year_containers = movies.find_all(class_ = \"lister-item-year text-muted unbold\")\n",
    "    movie_years=[]\n",
    "    for year in year_containers:\n",
    "        movie_years.append(year.text) \n",
    "    duration_containers = movies.find_all(class_ = \"runtime\")\n",
    "    movie_duration=[]\n",
    "    for duration in duration_containers:\n",
    "        movie_duration.append(duration.text)\n",
    "    genre_containers = movies.find_all(class_ = \"genre\")\n",
    "    movie_genre=[]\n",
    "    for genre in genre_containers:\n",
    "        movie_genre.append(genre.text)\n",
    "    rating_containers = movies.find_all(class_ = \"inline-block ratings-imdb-rating\")\n",
    "    movie_rating=[]\n",
    "    for rating in rating_containers:\n",
    "        movie_rating.append(rating.text)\n",
    "    star_containers = movies.find_all(class_ = \"lister-item-content\")\n",
    "    movie_stars=[]\n",
    "    for star in star_containers:\n",
    "        p_links = star.find_all(\"a\", id= False)\n",
    "        movie_stars.append(p_links[12:])\n",
    "    votes_containers = movies.find_all(class_ = \"sort-num_votes-visible\")\n",
    "    movie_votes=[]\n",
    "    for vote in votes_containers:\n",
    "        movie_votes.append(vote.text)\n",
    "    return pd.DataFrame(list(zip(movie_names, movie_years, movie_duration, movie_genre, movie_rating, movie_stars, movie_votes\n",
    "                          )), columns=[\"Names\",\"Years\", \"Duration\", \"Genre\", \"Rating\", \"Stars\", \"Votes\"])\n"
   ]
  },
  {
   "cell_type": "markdown",
   "metadata": {},
   "source": [
    "## Data Cleaning Function"
   ]
  },
  {
   "cell_type": "code",
   "execution_count": 112,
   "metadata": {},
   "outputs": [],
   "source": [
    "def clean_dataframe(df):\n",
    "    def cleaner_g1_y1(text):\n",
    "        return re.sub('[^A-Za-z0-9]', ' ',text)\n",
    "    df['Genre'] = df['Genre'].apply(cleaner_g1_y1)\n",
    "    df['Years'] = df['Years'].apply(cleaner_g1_y1)\n",
    "    def cleaner_v1(text):\n",
    "        return re.sub('[^A-Za-z0-9]', '',text)\n",
    "        df['Votes'] = df['Votes'].apply(cleaner_v1)\n",
    "    def cleaner_r1(text):\n",
    "        return re.sub('\\n', '',text)\n",
    "    df['Rating'] = df['Rating'].apply(cleaner_r1)\n",
    "    def cleaner_y2(text):\n",
    "        return re.sub('[I, \\s]', '',text)\n",
    "    df['Years'] = df['Years'].apply(cleaner_y2)\n",
    "    def cleaner_s1(text):\n",
    "        text = str(text)[1:-1]             \n",
    "        return text\n",
    "    df['Stars'] = df['Stars'].apply(cleaner_s1)\n",
    "    def cleaner_d1_v2_s2(text):\n",
    "        return re.sub('[^0-9]', '',text)\n",
    "    df['Duration'] = df['Duration'].apply(cleaner_d1_v2_s2)\n",
    "    df['Votes'] = df['Votes'].apply(cleaner_d1_v2_s2)\n",
    "    df['Years'] = df['Years'].apply(cleaner_d1_v2_s2)\n",
    "    def cleaner_s3(text):\n",
    "        text = re.sub('<.*?>','',text)            \n",
    "        return text\n",
    "    df['Stars'] = df['Stars'].apply(cleaner_s3)\n",
    "    return df.head()"
   ]
  },
  {
   "cell_type": "code",
   "execution_count": 95,
   "metadata": {},
   "outputs": [
    {
     "name": "stdout",
     "output_type": "stream",
     "text": [
      "['https://www.imdb.com/search/title/?country_of_origin=NG&sort=user_rating,asc&start=1', 'https://www.imdb.com/search/title/?country_of_origin=NG&sort=user_rating,asc&start=51', 'https://www.imdb.com/search/title/?country_of_origin=NG&sort=user_rating,asc&start=101', 'https://www.imdb.com/search/title/?country_of_origin=NG&sort=user_rating,asc&start=151', 'https://www.imdb.com/search/title/?country_of_origin=NG&sort=user_rating,asc&start=201', 'https://www.imdb.com/search/title/?country_of_origin=NG&sort=user_rating,asc&start=251', 'https://www.imdb.com/search/title/?country_of_origin=NG&sort=user_rating,asc&start=301', 'https://www.imdb.com/search/title/?country_of_origin=NG&sort=user_rating,asc&start=351', 'https://www.imdb.com/search/title/?country_of_origin=NG&sort=user_rating,asc&start=401', 'https://www.imdb.com/search/title/?country_of_origin=NG&sort=user_rating,asc&start=451', 'https://www.imdb.com/search/title/?country_of_origin=NG&sort=user_rating,asc&start=501']\n"
     ]
    }
   ],
   "source": [
    "#url_numbers=[1,48,98,148,198,248,298,348,398,448,498]\n",
    "url_numbers=[1,51,101,151,201,251,301,351,401,451,501]\n",
    "#url_numbers={\"df1\":1, \"df2\":51, \"df3\":101, \"df4\":151, \"df5\":201, \"df6\":251,\"df7\":301, \"df8\":351, \"df9\":401, \"df10\":451, \"df11\":501}\n",
    "df_name= [\"df1\",\"df2\",\"df3\",\"df4\",\"df5\",\"df6\",\"df7\",\"df8\",\"df9\",\"df10\",\"df11\"]\n",
    "urls = []\n",
    "URL = 'https://www.imdb.com/search/title/?country_of_origin=NG&sort=user_rating,asc&start='\n",
    "for i in url_numbers:\n",
    "    url = URL + str(i)\n",
    "    urls.append(url)\n",
    "print(urls)"
   ]
  },
  {
   "cell_type": "code",
   "execution_count": 96,
   "metadata": {},
   "outputs": [
    {
     "name": "stdout",
     "output_type": "stream",
     "text": [
      "{'https://www.imdb.com/search/title/?country_of_origin=NG&sort=user_rating,asc&start=1': 'df1', 'https://www.imdb.com/search/title/?country_of_origin=NG&sort=user_rating,asc&start=51': 'df2', 'https://www.imdb.com/search/title/?country_of_origin=NG&sort=user_rating,asc&start=101': 'df3', 'https://www.imdb.com/search/title/?country_of_origin=NG&sort=user_rating,asc&start=151': 'df4', 'https://www.imdb.com/search/title/?country_of_origin=NG&sort=user_rating,asc&start=201': 'df5', 'https://www.imdb.com/search/title/?country_of_origin=NG&sort=user_rating,asc&start=251': 'df6', 'https://www.imdb.com/search/title/?country_of_origin=NG&sort=user_rating,asc&start=301': 'df7', 'https://www.imdb.com/search/title/?country_of_origin=NG&sort=user_rating,asc&start=351': 'df8', 'https://www.imdb.com/search/title/?country_of_origin=NG&sort=user_rating,asc&start=401': 'df9', 'https://www.imdb.com/search/title/?country_of_origin=NG&sort=user_rating,asc&start=451': 'df10', 'https://www.imdb.com/search/title/?country_of_origin=NG&sort=user_rating,asc&start=501': 'df11'}\n"
     ]
    }
   ],
   "source": [
    "url_df= dict(zip(urls,df_name))\n",
    "print(url_df)"
   ]
  },
  {
   "cell_type": "code",
   "execution_count": 98,
   "metadata": {},
   "outputs": [],
   "source": [
    "df1 = get_movie_data(urls[0])\n",
    "df2 = get_movie_data(urls[1])\n",
    "df3 = get_movie_data(urls[2])\n",
    "df4 = get_movie_data(urls[3])\n",
    "df5 = get_movie_data(urls[4])\n",
    "df6 = get_movie_data(urls[5])\n",
    "df7 = get_movie_data(urls[6])\n",
    "df8 = get_movie_data(urls[7])\n",
    "df9 = get_movie_data(urls[8])\n",
    "df10 = get_movie_data(urls[9])\n",
    "df11 = get_movie_data(urls[10])"
   ]
  },
  {
   "cell_type": "code",
   "execution_count": 107,
   "metadata": {},
   "outputs": [
    {
     "data": {
      "text/html": [
       "<div>\n",
       "<style scoped>\n",
       "    .dataframe tbody tr th:only-of-type {\n",
       "        vertical-align: middle;\n",
       "    }\n",
       "\n",
       "    .dataframe tbody tr th {\n",
       "        vertical-align: top;\n",
       "    }\n",
       "\n",
       "    .dataframe thead th {\n",
       "        text-align: right;\n",
       "    }\n",
       "</style>\n",
       "<table border=\"1\" class=\"dataframe\">\n",
       "  <thead>\n",
       "    <tr style=\"text-align: right;\">\n",
       "      <th></th>\n",
       "      <th>Names</th>\n",
       "      <th>Years</th>\n",
       "      <th>Duration</th>\n",
       "      <th>Genre</th>\n",
       "      <th>Rating</th>\n",
       "      <th>Stars</th>\n",
       "      <th>Votes</th>\n",
       "    </tr>\n",
       "  </thead>\n",
       "  <tbody>\n",
       "    <tr>\n",
       "      <th>0</th>\n",
       "      <td>Blue</td>\n",
       "      <td>(VI) (2020)</td>\n",
       "      <td>91 min</td>\n",
       "      <td>\\nDrama</td>\n",
       "      <td>\\n\\n1.4\\n</td>\n",
       "      <td>[[God'spower Okoh], [Ray Emodi], [Tina Mba], [...</td>\n",
       "      <td>\\nVotes:\\n22\\n</td>\n",
       "    </tr>\n",
       "    <tr>\n",
       "      <th>1</th>\n",
       "      <td>The Same Day</td>\n",
       "      <td>(2012)</td>\n",
       "      <td>90 min</td>\n",
       "      <td>\\nCrime</td>\n",
       "      <td>\\n\\n1.7\\n</td>\n",
       "      <td>[[Uche Chika], [Don Alphonso], [Michael Arg], ...</td>\n",
       "      <td>\\nVotes:\\n29\\n</td>\n",
       "    </tr>\n",
       "    <tr>\n",
       "      <th>2</th>\n",
       "      <td>Chain</td>\n",
       "      <td>(IV) (2018)</td>\n",
       "      <td>74 min</td>\n",
       "      <td>\\nDrama</td>\n",
       "      <td>\\n\\n1.9\\n</td>\n",
       "      <td>[[Awal Abdulfatai Rahmat], [Chisimdi Benjamin]...</td>\n",
       "      <td>\\nVotes:\\n13\\n</td>\n",
       "    </tr>\n",
       "    <tr>\n",
       "      <th>3</th>\n",
       "      <td>Rising Moon</td>\n",
       "      <td>(2005 Video)</td>\n",
       "      <td>85 min</td>\n",
       "      <td>\\nDrama</td>\n",
       "      <td>\\n\\n2.1\\n</td>\n",
       "      <td>[[Add a Plot], [Andy Nwakalor], [Akume Akume],...</td>\n",
       "      <td>\\nVotes:\\n10\\n</td>\n",
       "    </tr>\n",
       "    <tr>\n",
       "      <th>4</th>\n",
       "      <td>The Python</td>\n",
       "      <td>(2003 Video)</td>\n",
       "      <td>118 min</td>\n",
       "      <td>\\nDrama, Horror</td>\n",
       "      <td>\\n\\n2.2\\n</td>\n",
       "      <td>[[Add a Plot], [Amayo Uzo Philips], [Stephen A...</td>\n",
       "      <td>\\nVotes:\\n5\\n</td>\n",
       "    </tr>\n",
       "  </tbody>\n",
       "</table>\n",
       "</div>"
      ],
      "text/plain": [
       "          Names         Years Duration                        Genre  \\\n",
       "0          Blue   (VI) (2020)   91 min          \\nDrama               \n",
       "1  The Same Day        (2012)   90 min          \\nCrime               \n",
       "2         Chain   (IV) (2018)   74 min          \\nDrama               \n",
       "3   Rising Moon  (2005 Video)   85 min          \\nDrama               \n",
       "4    The Python  (2003 Video)  118 min  \\nDrama, Horror               \n",
       "\n",
       "      Rating                                              Stars  \\\n",
       "0  \\n\\n1.4\\n  [[God'spower Okoh], [Ray Emodi], [Tina Mba], [...   \n",
       "1  \\n\\n1.7\\n  [[Uche Chika], [Don Alphonso], [Michael Arg], ...   \n",
       "2  \\n\\n1.9\\n  [[Awal Abdulfatai Rahmat], [Chisimdi Benjamin]...   \n",
       "3  \\n\\n2.1\\n  [[Add a Plot], [Andy Nwakalor], [Akume Akume],...   \n",
       "4  \\n\\n2.2\\n  [[Add a Plot], [Amayo Uzo Philips], [Stephen A...   \n",
       "\n",
       "            Votes  \n",
       "0  \\nVotes:\\n22\\n  \n",
       "1  \\nVotes:\\n29\\n  \n",
       "2  \\nVotes:\\n13\\n  \n",
       "3  \\nVotes:\\n10\\n  \n",
       "4   \\nVotes:\\n5\\n  "
      ]
     },
     "execution_count": 107,
     "metadata": {},
     "output_type": "execute_result"
    }
   ],
   "source": [
    "series = [df1,df2,df3,df4,df5,df6,df7,df8,df9,df10,df11]\n",
    "new_df = pd.concat(series)\n",
    "new_df.head()"
   ]
  },
  {
   "cell_type": "code",
   "execution_count": 116,
   "metadata": {},
   "outputs": [
    {
     "name": "stdout",
     "output_type": "stream",
     "text": [
      "5\n"
     ]
    }
   ],
   "source": [
    "movie_df = clean_dataframe(new_df)\n",
    "movie_df.head()\n",
    "print(len(movie_df))"
   ]
  },
  {
   "cell_type": "code",
   "execution_count": 115,
   "metadata": {},
   "outputs": [],
   "source": [
    "movie_df.to_csv(\"movie_data.csv\")"
   ]
  },
  {
   "cell_type": "code",
   "execution_count": 117,
   "metadata": {},
   "outputs": [],
   "source": [
    "new_df.to_csv(\"movies_data.csv\")"
   ]
  },
  {
   "cell_type": "code",
   "execution_count": 118,
   "metadata": {},
   "outputs": [
    {
     "data": {
      "text/html": [
       "<div>\n",
       "<style scoped>\n",
       "    .dataframe tbody tr th:only-of-type {\n",
       "        vertical-align: middle;\n",
       "    }\n",
       "\n",
       "    .dataframe tbody tr th {\n",
       "        vertical-align: top;\n",
       "    }\n",
       "\n",
       "    .dataframe thead th {\n",
       "        text-align: right;\n",
       "    }\n",
       "</style>\n",
       "<table border=\"1\" class=\"dataframe\">\n",
       "  <thead>\n",
       "    <tr style=\"text-align: right;\">\n",
       "      <th></th>\n",
       "      <th>Names</th>\n",
       "      <th>Years</th>\n",
       "      <th>Duration</th>\n",
       "      <th>Genre</th>\n",
       "      <th>Rating</th>\n",
       "      <th>Stars</th>\n",
       "      <th>Votes</th>\n",
       "    </tr>\n",
       "  </thead>\n",
       "  <tbody>\n",
       "    <tr>\n",
       "      <th>0</th>\n",
       "      <td>Blue</td>\n",
       "      <td>2020</td>\n",
       "      <td>91</td>\n",
       "      <td>Drama</td>\n",
       "      <td>1.4</td>\n",
       "      <td>d'spower Okoh, Ray Emodi, Tina Mba, Odera Oliv...</td>\n",
       "      <td>22</td>\n",
       "    </tr>\n",
       "    <tr>\n",
       "      <th>1</th>\n",
       "      <td>The Same Day</td>\n",
       "      <td>2012</td>\n",
       "      <td>90</td>\n",
       "      <td>Crime</td>\n",
       "      <td>1.7</td>\n",
       "      <td>he Chika, Don Alphonso, Michael Arg, Pat Attah...</td>\n",
       "      <td>29</td>\n",
       "    </tr>\n",
       "    <tr>\n",
       "      <th>2</th>\n",
       "      <td>Chain</td>\n",
       "      <td>2018</td>\n",
       "      <td>74</td>\n",
       "      <td>Drama</td>\n",
       "      <td>1.9</td>\n",
       "      <td>al Abdulfatai Rahmat, Chisimdi Benjamin, Andre...</td>\n",
       "      <td>13</td>\n",
       "    </tr>\n",
       "    <tr>\n",
       "      <th>3</th>\n",
       "      <td>Rising Moon</td>\n",
       "      <td>2005</td>\n",
       "      <td>85</td>\n",
       "      <td>Drama</td>\n",
       "      <td>2.1</td>\n",
       "      <td>d a Plot, Andy Nwakalor, Akume Akume, Nzubechi...</td>\n",
       "      <td>10</td>\n",
       "    </tr>\n",
       "    <tr>\n",
       "      <th>4</th>\n",
       "      <td>The Python</td>\n",
       "      <td>2003</td>\n",
       "      <td>118</td>\n",
       "      <td>Drama  Horror</td>\n",
       "      <td>2.2</td>\n",
       "      <td>d a Plot, Amayo Uzo Philips, Stephen Ahanaonu,...</td>\n",
       "      <td>5</td>\n",
       "    </tr>\n",
       "  </tbody>\n",
       "</table>\n",
       "</div>"
      ],
      "text/plain": [
       "          Names Years Duration                       Genre Rating  \\\n",
       "0          Blue  2020       91           Drama                1.4   \n",
       "1  The Same Day  2012       90           Crime                1.7   \n",
       "2         Chain  2018       74           Drama                1.9   \n",
       "3   Rising Moon  2005       85           Drama                2.1   \n",
       "4    The Python  2003      118   Drama  Horror                2.2   \n",
       "\n",
       "                                               Stars Votes  \n",
       "0  d'spower Okoh, Ray Emodi, Tina Mba, Odera Oliv...    22  \n",
       "1  he Chika, Don Alphonso, Michael Arg, Pat Attah...    29  \n",
       "2  al Abdulfatai Rahmat, Chisimdi Benjamin, Andre...    13  \n",
       "3  d a Plot, Andy Nwakalor, Akume Akume, Nzubechi...    10  \n",
       "4  d a Plot, Amayo Uzo Philips, Stephen Ahanaonu,...     5  "
      ]
     },
     "execution_count": 118,
     "metadata": {},
     "output_type": "execute_result"
    }
   ],
   "source": [
    "new_df.head()"
   ]
  },
  {
   "cell_type": "code",
   "execution_count": 119,
   "metadata": {},
   "outputs": [
    {
     "data": {
      "text/plain": [
       "384"
      ]
     },
     "execution_count": 119,
     "metadata": {},
     "output_type": "execute_result"
    }
   ],
   "source": [
    "len(new_df)"
   ]
  },
  {
   "cell_type": "code",
   "execution_count": null,
   "metadata": {},
   "outputs": [],
   "source": []
  }
 ],
 "metadata": {
  "kernelspec": {
   "display_name": "Python 3",
   "language": "python",
   "name": "python3"
  },
  "language_info": {
   "codemirror_mode": {
    "name": "ipython",
    "version": 3
   },
   "file_extension": ".py",
   "mimetype": "text/x-python",
   "name": "python",
   "nbconvert_exporter": "python",
   "pygments_lexer": "ipython3",
   "version": "3.7.6"
  }
 },
 "nbformat": 4,
 "nbformat_minor": 4
}
